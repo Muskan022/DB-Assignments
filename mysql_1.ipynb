{
 "cells": [
  {
   "cell_type": "markdown",
   "metadata": {},
   "source": [
    "Q1. What is a database? Differentiate between SQL and NoSQL databases.\n",
    "\n",
    "Ans-  A database is an organised collection of structured information, or data, typically stored electronically in a computer system. A database is usually controlled by a database management system (DBMS).\n",
    "\n",
    "There are two primary types of databases:\n",
    "1. SQL(relational databases)\n",
    "2. NoSQL(non - relational databases)\n",
    "\n",
    "SQL databases use a relational model where data is stored in rows and tables that are linked in various ways.On the other hand, NoSQL databases allow different structures than a SQL database and more flexibility to use a format that best fits the data.\n",
    "\n",
    "SQL databases have a well-designed schemas, while NoSQL databases have a dynamic schema for unstructured data.\n",
    "\n",
    "SQL databases are vertically scalable, meaning we can increase the load on a server by migrating to a larger server that adds more CPU , RAM OR SSD capability. On the other hand, NoSQL databases are horizontally scalable as they use mulitple nodes in a cluster to handle increased workloads.\n",
    "\n"
   ]
  },
  {
   "cell_type": "markdown",
   "metadata": {},
   "source": [
    "Q3. What is DML? Explain INSERT, UPDATE, and DELETE with an example.\n",
    "\n",
    "Ans - DML stands for Data Manipulation Language.It is used to manipulate data in a databases.DML commands includes SELECT,INSERT,UPDATE,AND DELETE.\n",
    "\n",
    "INSERT - This is used to insert new rows into a table.\n",
    "\n",
    "UPDATE - This is used to update existing rows in a table.\n",
    "\n",
    "DELETE -This is used to delete rows from a table."
   ]
  },
  {
   "cell_type": "markdown",
   "metadata": {},
   "source": [
    "Q2. What is DDL? Explain why CREATE, DROP, ALTER, and TRUNCATE are used with an example.\n",
    "\n",
    "Ans- DDL stands for data definition language. It is a subset of SQL and is used to define data structures and modify data.DDL commands can be used to create, modify,and delete databases objects, such as tables, indexes and sequences.\n",
    "\n",
    "CREATE - This command is used to create a database object, such as table or an index.\n",
    "\n",
    "DROP - This is used to delete an exsting database object.\n",
    "\n",
    "ALTER - This is used to modify the structure of an existing database object.\n",
    "\n",
    "Truncate - This command is used to remove all records from a table, including all spaces allocated for a records."
   ]
  },
  {
   "cell_type": "code",
   "execution_count": 6,
   "metadata": {},
   "outputs": [],
   "source": [
    "import mysql.connector\n",
    "mydb = mysql.connector.connect(host = \"localhost\", user = \"abc\", password = \"password\")\n",
    "cursor = mydb.cursor()\n",
    "cursor.execute(\"CREATE DATABASE if not EXISTS employee\")\n"
   ]
  },
  {
   "cell_type": "code",
   "execution_count": 7,
   "metadata": {},
   "outputs": [],
   "source": [
    "## USE OF CREATE COMMAND\n",
    "cursor.execute(\"CREATE TABLE if not EXISTS employee.employee_details (ID INT PRIMARY KEY, first_name VARCHAR(50), last_name VARCHAR(50), phone INT)\")\n",
    "\n",
    "cursor.execute(\"ALTER TABLE employee.employee_details ADD COLUMN salary INT\")\n",
    "# Add a new column named salary to the employee_details table\n",
    "\n",
    "\n",
    "cursor.execute(\"TRUNCATE TABLE employee.employee_details \")\n",
    "## remove all data from the table\n",
    "\n",
    "cursor.execute(\"DROP TABLE employee.employee_details\")\n",
    "## delete the employee_details table"
   ]
  },
  {
   "cell_type": "code",
   "execution_count": 8,
   "metadata": {},
   "outputs": [],
   "source": [
    "cursor.execute(\"CREATE DATABASE if not EXISTS students\")\n",
    "cursor.execute(\"CREATE TABLE if not EXISTS students.student_details(ID INT , FIRST_NAME VARCHAR(50) , LAST_NAME VARCHAR(50) , EMAIL VARCHAR(50))\")\n",
    "cursor.execute(\"INSERT INTO students.student_details VALUES(101 ,'MUSKAN', 'GUPTA' , 'muskan@gmail.com')\")\n"
   ]
  },
  {
   "cell_type": "code",
   "execution_count": 9,
   "metadata": {},
   "outputs": [
    {
     "name": "stdout",
     "output_type": "stream",
     "text": [
      "(101, 'MUSKAN', 'GUPTA', 'muskan@gmail.com')\n"
     ]
    }
   ],
   "source": [
    "mydb.commit()\n",
    "cursor.execute(\"SELECT * FROM students.student_details\")\n",
    "for i in cursor.fetchall():\n",
    "    print(i)"
   ]
  },
  {
   "cell_type": "code",
   "execution_count": 11,
   "metadata": {},
   "outputs": [
    {
     "name": "stdout",
     "output_type": "stream",
     "text": [
      "(100, 'MUSKAN', 'GUPTA', 'muskan@gmail.com')\n"
     ]
    }
   ],
   "source": [
    "cursor.execute(\"UPDATE students.student_details SET ID = 100 WHERE ID = 101\")\n",
    "cursor.execute(\"SELECT * FROM students.student_details\")\n",
    "for i in cursor.fetchall():\n",
    "    print(i)"
   ]
  },
  {
   "cell_type": "code",
   "execution_count": 16,
   "metadata": {},
   "outputs": [],
   "source": [
    "cursor.execute(\"DELETE FROM students.student_details WHERE ID = 100 \")\n"
   ]
  },
  {
   "cell_type": "code",
   "execution_count": 17,
   "metadata": {},
   "outputs": [],
   "source": [
    "cursor.execute(\"SELECT * FROM students.student_details\")\n",
    "for i in cursor.fetchall():\n",
    "    print(i)"
   ]
  },
  {
   "cell_type": "markdown",
   "metadata": {},
   "source": [
    "Q4. What is DQL? Explain SELECT with an example.\n",
    "\n",
    "Ans- DQL stands for Data Query Language. It is a subset of SQL and is used to query data from a database.The principal DQL command is a SELECT command which retrieves data from one or more tables."
   ]
  },
  {
   "cell_type": "code",
   "execution_count": null,
   "metadata": {},
   "outputs": [],
   "source": []
  },
  {
   "cell_type": "code",
   "execution_count": 19,
   "metadata": {},
   "outputs": [
    {
     "name": "stdout",
     "output_type": "stream",
     "text": [
      "(100, 'MUSKAN', 'GUPTA', 'muskan@gmail.com')\n",
      "(101, 'ANMOL', 'GUPTA', 'anmol@gmail.com')\n"
     ]
    }
   ],
   "source": [
    "## USE OF SELECT COMMAND \n",
    "## using previously created database\n",
    "\n",
    "cursor.execute(\"INSERT INTO students.student_details VALUES(100,'MUSKAN','GUPTA','muskan@gmail.com')\")\n",
    "cursor.execute(\"INSERT INTO students.student_details VALUES(101,'ANMOL','GUPTA','anmol@gmail.com')\")\n",
    "mydb.commit()\n",
    "cursor.execute(\"SELECT * FROM students.student_details\")\n",
    "for i in cursor.fetchall():\n",
    "    print(i)\n"
   ]
  },
  {
   "cell_type": "markdown",
   "metadata": {},
   "source": [
    "Q5. Explain Primary Key and Foreign Key.\n",
    "\n",
    "Ans-  PRIMARY KEY - A primary key is a column or a set of columns that uniquely identifies each row in a table. It is used to enforce the entity integrity of the table by ensuring that no two rows have the same primary key value. \n",
    "\n",
    "A table can have only one primary key and its columns must contain unique values and cannot be NULL.\n",
    "\n",
    "FOREIGN KEY - A foreign key is a column or a set of columns in one table that refers to the primary key of another table.It is used to establish a relationship between the two tables and enforce referential integrity by ensuring that any value n the foreign key column must match a value in the primary key columns of the referenced table."
   ]
  },
  {
   "cell_type": "markdown",
   "metadata": {},
   "source": [
    "Q6. Write a python code to connect MySQL to python. Explain the cursor() and execute() method.\n",
    "\n",
    "ANS - we first import the mysql.connector module, which provides the necessary functions and classes for connecting to a MySQL database. We then use the connect() function to establish a connection to the MySQL database by providing the necessary connection parameters, such as the host, user, password, and database name.\n",
    "\n",
    "Once the connection is established, we create a cursor object using the cursor() method of the connection object. A cursor is used to execute SQL queries and retrieve results from the database.\n",
    "\n",
    "We then use the execute() method of the cursor object to execute a SQL query. In this case, we are executing a SELECT query to retrieve all rows from a table named your_table.\n",
    "\n",
    "code given in ques2"
   ]
  },
  {
   "cell_type": "markdown",
   "metadata": {},
   "source": [
    "Q7. Give the order of execution of SQL clauses in an SQL query.\n",
    "\n",
    "Ans- The order of execution of SQL clauses in an SQL query is as follows:\n",
    "\n",
    "1. FROM clause\n",
    "2. JOIN clause\n",
    "3. ON clause\n",
    "4. OUTER clause\n",
    "5. WHERE clause\n",
    "6. GROUP BY clause\n",
    "7. HAVING clause\n",
    "8. SELECT clause\n",
    "9. DISTINCT clause\n",
    "10. ORDER BY clause\n",
    "11. TOP clause"
   ]
  },
  {
   "cell_type": "markdown",
   "metadata": {},
   "source": []
  }
 ],
 "metadata": {
  "kernelspec": {
   "display_name": "Python 3.8.10 64-bit",
   "language": "python",
   "name": "python3"
  },
  "language_info": {
   "codemirror_mode": {
    "name": "ipython",
    "version": 3
   },
   "file_extension": ".py",
   "mimetype": "text/x-python",
   "name": "python",
   "nbconvert_exporter": "python",
   "pygments_lexer": "ipython3",
   "version": "3.8.10"
  },
  "orig_nbformat": 4,
  "vscode": {
   "interpreter": {
    "hash": "916dbcbb3f70747c44a77c7bcd40155683ae19c65e1c03b4aa3499c5328201f1"
   }
  }
 },
 "nbformat": 4,
 "nbformat_minor": 2
}
